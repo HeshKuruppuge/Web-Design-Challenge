{
 "cells": [
  {
   "cell_type": "code",
   "execution_count": 4,
   "id": "5557fc33",
   "metadata": {},
   "outputs": [],
   "source": [
    "#import dependencies\n",
    "import pandas as pd"
   ]
  },
  {
   "cell_type": "code",
   "execution_count": 5,
   "id": "70b4e5a4",
   "metadata": {},
   "outputs": [],
   "source": [
    "#read the CSV file\n",
    "cities_df = pd.read_csv(\"cities.csv\")\n"
   ]
  },
  {
   "cell_type": "code",
   "execution_count": 6,
   "id": "77879ccc",
   "metadata": {},
   "outputs": [],
   "source": [
    "#convert it to HTML using .to_html \n",
    "cities_df.to_html('table.html', index=False, classes = ['table', 'table-striped', 'table-hover'])"
   ]
  },
  {
   "cell_type": "code",
   "execution_count": null,
   "id": "0ae67f1a",
   "metadata": {},
   "outputs": [],
   "source": []
  }
 ],
 "metadata": {
  "kernelspec": {
   "display_name": "Python 3 (ipykernel)",
   "language": "python",
   "name": "python3"
  },
  "language_info": {
   "codemirror_mode": {
    "name": "ipython",
    "version": 3
   },
   "file_extension": ".py",
   "mimetype": "text/x-python",
   "name": "python",
   "nbconvert_exporter": "python",
   "pygments_lexer": "ipython3",
   "version": "3.9.7"
  }
 },
 "nbformat": 4,
 "nbformat_minor": 5
}
